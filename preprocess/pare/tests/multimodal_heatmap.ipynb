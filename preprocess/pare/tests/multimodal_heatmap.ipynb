{
 "cells": [
  {
   "cell_type": "code",
   "execution_count": 33,
   "metadata": {},
   "outputs": [],
   "source": [
    "import scipy\n",
    "from scipy.ndimage.filters import gaussian_filter\n",
    "import numpy as np\n",
    "import matplotlib.pyplot as plt\n",
    "import torch"
   ]
  },
  {
   "cell_type": "code",
   "execution_count": 17,
   "metadata": {},
   "outputs": [],
   "source": [
    "def generate_target(joints):\n",
    "    '''\n",
    "    :param joints:  [num_joints, 3]\n",
    "    :param joints_vis: [num_joints, 3]\n",
    "    :return: target, target_weight(1: visible, 0: invisible)\n",
    "    '''\n",
    "    heatmap_size = (256, 256)\n",
    "    target = np.zeros(heatmap_size, dtype=np.float32)\n",
    "    sigma = 8\n",
    "    tmp_size = sigma * 3\n",
    "    \n",
    "    for joint in joints:\n",
    "        print(joint)\n",
    "        mu_x = int(joint[0] + 0.5)\n",
    "        mu_y = int(joint[1] + 0.5)\n",
    "        # Check that any part of the gaussian is in-bounds\n",
    "        ul = [int(mu_x - tmp_size), int(mu_y - tmp_size)]\n",
    "        br = [int(mu_x + tmp_size + 1), int(mu_y + tmp_size + 1)]\n",
    "\n",
    "        # # Generate gaussian\n",
    "        size = 2 * tmp_size + 1\n",
    "        x = np.arange(0, size, 1, np.float32)\n",
    "        y = x[:, np.newaxis]\n",
    "        x0 = y0 = size // 2\n",
    "        # The gaussian is not normalized, we want the center value to equal 1\n",
    "        g = np.exp(- ((x - x0) ** 2 + (y - y0) ** 2) / (2 * sigma ** 2))\n",
    "\n",
    "        # Usable gaussian range\n",
    "        g_x = max(0, -ul[0]), min(br[0], heatmap_size[0]) - ul[0]\n",
    "        g_y = max(0, -ul[1]), min(br[1], heatmap_size[1]) - ul[1]\n",
    "        # Image range\n",
    "        img_x = max(0, ul[0]), min(br[0], heatmap_size[0])\n",
    "        img_y = max(0, ul[1]), min(br[1], heatmap_size[1])\n",
    "\n",
    "        target[img_y[0]:img_y[1], img_x[0]:img_x[1]] = g[g_y[0]:g_y[1], g_x[0]:g_x[1]]\n",
    "\n",
    "    return target"
   ]
  },
  {
   "cell_type": "code",
   "execution_count": 18,
   "metadata": {},
   "outputs": [
    {
     "name": "stdout",
     "output_type": "stream",
     "text": [
      "(128, 128)\n",
      "(64, 64)\n"
     ]
    },
    {
     "data": {
      "text/plain": [
       "<matplotlib.image.AxesImage at 0x7f029404b9d0>"
      ]
     },
     "execution_count": 18,
     "metadata": {},
     "output_type": "execute_result"
    },
    {
     "data": {
      "image/png": "[encoded data removed]",
      "text/plain": [
       "<Figure size 432x288 with 1 Axes>"
      ]
     },
     "metadata": {
      "needs_background": "light"
     },
     "output_type": "display_data"
    }
   ],
   "source": [
    "heatmap = generate_target([(128,128), (64,64)])\n",
    "plt.imshow(heatmap)"
   ]
  },
  {
   "cell_type": "code",
   "execution_count": 23,
   "metadata": {},
   "outputs": [],
   "source": [
    "x_list = []\n",
    "y_list = []\n",
    "peak_counter = 0\n",
    "map_ori = heatmap\n",
    "map = gaussian_filter(map_ori, sigma=3)\n",
    "\n",
    "map_left = np.zeros(map.shape)\n",
    "map_left[1:,:] = map[:-1,:]\n",
    "map_right = np.zeros(map.shape)\n",
    "map_right[:-1,:] = map[1:,:]\n",
    "map_up = np.zeros(map.shape)\n",
    "map_up[:,1:] = map[:,:-1]\n",
    "map_down = np.zeros(map.shape)\n",
    "map_down[:,:-1] = map[:,1:]\n",
    "\n",
    "peaks_binary = np.logical_and.reduce((map>=map_left, map>=map_right, map>=map_up, map>=map_down, map > 0.1))\n",
    "peaks = zip(np.nonzero(peaks_binary)[1], np.nonzero(peaks_binary)[0]) # note reverse\n",
    "peaks = list(peaks)\n",
    "\n",
    "peaks_with_score = [x + (map_ori[x[1],x[0]],) for x in peaks]\n",
    "id = range(peak_counter, peak_counter + len(peaks))\n",
    "peaks_with_score_and_id = [peaks_with_score[i] + (id[i],) for i in range(len(id))]\n",
    "\n",
    "# all_peaks.append(peaks_with_score_and_id)\n",
    "# peak_counter += len(peaks)"
   ]
  },
  {
   "cell_type": "code",
   "execution_count": 24,
   "metadata": {},
   "outputs": [
    {
     "data": {
      "text/plain": [
       "[(64, 64, 1.0, 0), (128, 128, 1.0, 1)]"
      ]
     },
     "execution_count": 24,
     "metadata": {},
     "output_type": "execute_result"
    }
   ],
   "source": [
    "peaks_with_score_and_id"
   ]
  },
  {
   "cell_type": "code",
   "execution_count": 29,
   "metadata": {},
   "outputs": [
    {
     "data": {
      "text/plain": [
       "(256, 256)"
      ]
     },
     "execution_count": 29,
     "metadata": {},
     "output_type": "execute_result"
    }
   ],
   "source": [
    "map_left.shape"
   ]
  },
  {
   "cell_type": "code",
   "execution_count": 30,
   "metadata": {},
   "outputs": [
    {
     "data": {
      "text/plain": [
       "<matplotlib.image.AxesImage at 0x7f029257c0d0>"
      ]
     },
     "execution_count": 30,
     "metadata": {},
     "output_type": "execute_result"
    },
    {
     "data": {
      "image/png": "[encoded data removed]",
      "text/plain": [
       "<Figure size 432x288 with 1 Axes>"
      ]
     },
     "metadata": {
      "needs_background": "light"
     },
     "output_type": "display_data"
    }
   ],
   "source": [
    "plt.imshow(peaks_binary)"
   ]
  },
  {
   "cell_type": "code",
   "execution_count": 31,
   "metadata": {},
   "outputs": [
    {
     "data": {
      "text/plain": [
       "(array([ 64, 128]), array([ 64, 128]))"
      ]
     },
     "execution_count": 31,
     "metadata": {},
     "output_type": "execute_result"
    }
   ],
   "source": [
    "np.nonzero(peaks_binary)"
   ]
  },
  {
   "cell_type": "code",
   "execution_count": 37,
   "metadata": {},
   "outputs": [
    {
     "ename": "AttributeError",
     "evalue": "module 'torch' has no attribute 'logical_and'",
     "output_type": "error",
     "traceback": [
      "\u001b[0;31m---------------------------------------------------------------------------\u001b[0m",
      "\u001b[0;31mAttributeError\u001b[0m                            Traceback (most recent call last)",
      "\u001b[0;32m<ipython-input-37-bee7acfaf329>\u001b[0m in \u001b[0;36m<module>\u001b[0;34m\u001b[0m\n\u001b[1;32m     15\u001b[0m \u001b[0mmap_down\u001b[0m\u001b[0;34m[\u001b[0m\u001b[0;34m:\u001b[0m\u001b[0;34m,\u001b[0m\u001b[0;34m:\u001b[0m\u001b[0;34m-\u001b[0m\u001b[0;36m1\u001b[0m\u001b[0;34m]\u001b[0m \u001b[0;34m=\u001b[0m \u001b[0mmap\u001b[0m\u001b[0;34m[\u001b[0m\u001b[0;34m:\u001b[0m\u001b[0;34m,\u001b[0m\u001b[0;36m1\u001b[0m\u001b[0;34m:\u001b[0m\u001b[0;34m]\u001b[0m\u001b[0;34m\u001b[0m\u001b[0;34m\u001b[0m\u001b[0m\n\u001b[1;32m     16\u001b[0m \u001b[0;34m\u001b[0m\u001b[0m\n\u001b[0;32m---> 17\u001b[0;31m \u001b[0mpeaks_binary\u001b[0m \u001b[0;34m=\u001b[0m \u001b[0mtorch\u001b[0m\u001b[0;34m.\u001b[0m\u001b[0mlogical_and\u001b[0m\u001b[0;34m.\u001b[0m\u001b[0mreduce\u001b[0m\u001b[0;34m(\u001b[0m\u001b[0;34m(\u001b[0m\u001b[0mmap\u001b[0m\u001b[0;34m>=\u001b[0m\u001b[0mmap_left\u001b[0m\u001b[0;34m,\u001b[0m \u001b[0mmap\u001b[0m\u001b[0;34m>=\u001b[0m\u001b[0mmap_right\u001b[0m\u001b[0;34m,\u001b[0m \u001b[0mmap\u001b[0m\u001b[0;34m>=\u001b[0m\u001b[0mmap_up\u001b[0m\u001b[0;34m,\u001b[0m \u001b[0mmap\u001b[0m\u001b[0;34m>=\u001b[0m\u001b[0mmap_down\u001b[0m\u001b[0;34m,\u001b[0m \u001b[0mmap\u001b[0m \u001b[0;34m>\u001b[0m \u001b[0;36m0.1\u001b[0m\u001b[0;34m)\u001b[0m\u001b[0;34m)\u001b[0m\u001b[0;34m\u001b[0m\u001b[0;34m\u001b[0m\u001b[0m\n\u001b[0m\u001b[1;32m     18\u001b[0m \u001b[0mpeaks\u001b[0m \u001b[0;34m=\u001b[0m \u001b[0mzip\u001b[0m\u001b[0;34m(\u001b[0m\u001b[0mnp\u001b[0m\u001b[0;34m.\u001b[0m\u001b[0mnonzero\u001b[0m\u001b[0;34m(\u001b[0m\u001b[0mpeaks_binary\u001b[0m\u001b[0;34m)\u001b[0m\u001b[0;34m[\u001b[0m\u001b[0;36m1\u001b[0m\u001b[0;34m]\u001b[0m\u001b[0;34m,\u001b[0m \u001b[0mnp\u001b[0m\u001b[0;34m.\u001b[0m\u001b[0mnonzero\u001b[0m\u001b[0;34m(\u001b[0m\u001b[0mpeaks_binary\u001b[0m\u001b[0;34m)\u001b[0m\u001b[0;34m[\u001b[0m\u001b[0;36m0\u001b[0m\u001b[0;34m]\u001b[0m\u001b[0;34m)\u001b[0m \u001b[0;31m# note reverse\u001b[0m\u001b[0;34m\u001b[0m\u001b[0;34m\u001b[0m\u001b[0m\n\u001b[1;32m     19\u001b[0m \u001b[0mpeaks\u001b[0m \u001b[0;34m=\u001b[0m \u001b[0mlist\u001b[0m\u001b[0;34m(\u001b[0m\u001b[0mpeaks\u001b[0m\u001b[0;34m)\u001b[0m\u001b[0;34m\u001b[0m\u001b[0;34m\u001b[0m\u001b[0m\n",
      "\u001b[0;31mAttributeError\u001b[0m: module 'torch' has no attribute 'logical_and'"
     ]
    }
   ],
   "source": [
    "x_list = []\n",
    "y_list = []\n",
    "peak_counter = 0\n",
    "map_ori = torch.from_numpy(heatmap)\n",
    "map = gaussian_filter(map_ori, sigma=3)\n",
    "map = torch.from_numpy(map)\n",
    "\n",
    "map_left = torch.zeros(map.shape)\n",
    "map_left[1:,:] = map[:-1,:]\n",
    "map_right = torch.zeros(map.shape)\n",
    "map_right[:-1,:] = map[1:,:]\n",
    "map_up = torch.zeros(map.shape)\n",
    "map_up[:,1:] = map[:,:-1]\n",
    "map_down = torch.zeros(map.shape)\n",
    "map_down[:,:-1] = map[:,1:]\n",
    "\n",
    "peaks_binary = torch.logical_and.reduce((map>=map_left, map>=map_right, map>=map_up, map>=map_down, map > 0.1))\n",
    "peaks = zip(np.nonzero(peaks_binary)[1], np.nonzero(peaks_binary)[0]) # note reverse\n",
    "peaks = list(peaks)\n",
    "\n",
    "peaks_with_score = [x + (map_ori[x[1],x[0]],) for x in peaks]\n",
    "id = range(peak_counter, peak_counter + len(peaks))\n",
    "peaks_with_score_and_id = [peaks_with_score[i] + (id[i],) for i in range(len(id))]"
   ]
  },
  {
   "cell_type": "code",
   "execution_count": null,
   "metadata": {},
   "outputs": [],
   "source": []
  }
 ],
 "metadata": {
  "kernelspec": {
   "display_name": "Python 3",
   "language": "python",
   "name": "python3"
  },
  "language_info": {
   "codemirror_mode": {
    "name": "ipython",
    "version": 3
   },
   "file_extension": ".py",
   "mimetype": "text/x-python",
   "name": "python",
   "nbconvert_exporter": "python",
   "pygments_lexer": "ipython3",
   "version": "3.7.6"
  }
 },
 "nbformat": 4,
 "nbformat_minor": 4
}
